{
 "cells": [
  {
   "cell_type": "code",
   "execution_count": 5,
   "metadata": {},
   "outputs": [],
   "source": [
    "from urllib.request import urlopen\n",
    "from plotly.offline import init_notebook_mode\n",
    "import plotly.express as px\n",
    "import plotly.graph_objects as go\n",
    "import json\n",
    "import pandas as pd\n",
    "import numpy as np\n",
    "import itertools\n",
    "import matplotlib.pyplot as plt\n",
    "import matplotlib.animation as animation\n",
    "import plotly.io as pio\n"
   ]
  },
  {
   "cell_type": "code",
   "execution_count": 8,
   "metadata": {},
   "outputs": [
    {
     "ename": "FileNotFoundError",
     "evalue": "[Errno 2] No such file or directory: 'gadm41_NLD_1.json'",
     "output_type": "error",
     "traceback": [
      "\u001b[1;31m---------------------------------------------------------------------------\u001b[0m",
      "\u001b[1;31mFileNotFoundError\u001b[0m                         Traceback (most recent call last)",
      "\u001b[1;32mc:\\Users\\pim\\Documents\\GitHub\\TIL6022-project\\Pim.ipynb Cell 2\u001b[0m in \u001b[0;36m<cell line: 1>\u001b[1;34m()\u001b[0m\n\u001b[1;32m----> <a href='vscode-notebook-cell:/c%3A/Users/pim/Documents/GitHub/TIL6022-project/Pim.ipynb#W5sZmlsZQ%3D%3D?line=0'>1</a>\u001b[0m f \u001b[39m=\u001b[39m \u001b[39mopen\u001b[39;49m(\u001b[39m'\u001b[39;49m\u001b[39mgadm41_NLD_1.json\u001b[39;49m\u001b[39m'\u001b[39;49m)\n",
      "\u001b[1;31mFileNotFoundError\u001b[0m: [Errno 2] No such file or directory: 'gadm41_NLD_1.json'"
     ]
    }
   ],
   "source": [
    "f = open('gadm41_NLD_1.json')\n",
    "#df_net = json.load(gadm41_NLD_1.json)"
   ]
  },
  {
   "cell_type": "code",
   "execution_count": 3,
   "metadata": {},
   "outputs": [
    {
     "data": {
      "text/html": [
       "<div>\n",
       "<style scoped>\n",
       "    .dataframe tbody tr th:only-of-type {\n",
       "        vertical-align: middle;\n",
       "    }\n",
       "\n",
       "    .dataframe tbody tr th {\n",
       "        vertical-align: top;\n",
       "    }\n",
       "\n",
       "    .dataframe thead th {\n",
       "        text-align: right;\n",
       "    }\n",
       "</style>\n",
       "<table border=\"1\" class=\"dataframe\">\n",
       "  <thead>\n",
       "    <tr style=\"text-align: right;\">\n",
       "      <th></th>\n",
       "      <th>Totaal online aankopen</th>\n",
       "      <th>Kleding of sportartikelen</th>\n",
       "      <th>Boeken. tijdschriften en kranten</th>\n",
       "      <th>Soft-/ hardware en elektronische benodig</th>\n",
       "      <th>Huishoudelijke goederen en apparaten</th>\n",
       "    </tr>\n",
       "    <tr>\n",
       "      <th>Perioden</th>\n",
       "      <th></th>\n",
       "      <th></th>\n",
       "      <th></th>\n",
       "      <th></th>\n",
       "      <th></th>\n",
       "    </tr>\n",
       "  </thead>\n",
       "  <tbody>\n",
       "    <tr>\n",
       "      <th>2012</th>\n",
       "      <td>64.0</td>\n",
       "      <td>31.2</td>\n",
       "      <td>22.9</td>\n",
       "      <td>12.8</td>\n",
       "      <td>15.8</td>\n",
       "    </tr>\n",
       "    <tr>\n",
       "      <th>2013</th>\n",
       "      <td>68.0</td>\n",
       "      <td>36.7</td>\n",
       "      <td>27.5</td>\n",
       "      <td>16.6</td>\n",
       "      <td>18.2</td>\n",
       "    </tr>\n",
       "    <tr>\n",
       "      <th>2014</th>\n",
       "      <td>69.7</td>\n",
       "      <td>40.5</td>\n",
       "      <td>28.7</td>\n",
       "      <td>18.3</td>\n",
       "      <td>23.2</td>\n",
       "    </tr>\n",
       "    <tr>\n",
       "      <th>2015</th>\n",
       "      <td>70.0</td>\n",
       "      <td>42.4</td>\n",
       "      <td>28.2</td>\n",
       "      <td>24.8</td>\n",
       "      <td>23.9</td>\n",
       "    </tr>\n",
       "    <tr>\n",
       "      <th>2016</th>\n",
       "      <td>73.3</td>\n",
       "      <td>47.9</td>\n",
       "      <td>29.1</td>\n",
       "      <td>26.1</td>\n",
       "      <td>28.6</td>\n",
       "    </tr>\n",
       "  </tbody>\n",
       "</table>\n",
       "</div>"
      ],
      "text/plain": [
       "          Totaal online aankopen  Kleding of sportartikelen  \\\n",
       "Perioden                                                      \n",
       "2012                        64.0                       31.2   \n",
       "2013                        68.0                       36.7   \n",
       "2014                        69.7                       40.5   \n",
       "2015                        70.0                       42.4   \n",
       "2016                        73.3                       47.9   \n",
       "\n",
       "          Boeken. tijdschriften en kranten  \\\n",
       "Perioden                                     \n",
       "2012                                  22.9   \n",
       "2013                                  27.5   \n",
       "2014                                  28.7   \n",
       "2015                                  28.2   \n",
       "2016                                  29.1   \n",
       "\n",
       "          Soft-/ hardware en elektronische benodig  \\\n",
       "Perioden                                             \n",
       "2012                                          12.8   \n",
       "2013                                          16.6   \n",
       "2014                                          18.3   \n",
       "2015                                          24.8   \n",
       "2016                                          26.1   \n",
       "\n",
       "          Huishoudelijke goederen en apparaten  \n",
       "Perioden                                        \n",
       "2012                                      15.8  \n",
       "2013                                      18.2  \n",
       "2014                                      23.2  \n",
       "2015                                      23.9  \n",
       "2016                                      28.6  "
      ]
     },
     "execution_count": 3,
     "metadata": {},
     "output_type": "execute_result"
    }
   ],
   "source": [
    "t = pd.read_csv('Data_online_shopping_total.csv', delimiter = ';', index_col = 0)\n",
    "t.head()"
   ]
  },
  {
   "cell_type": "code",
   "execution_count": null,
   "metadata": {},
   "outputs": [],
   "source": [
    "\n",
    "\n",
    "fig = px.choropleth(df_usa, geojson=counties, locations='fips', color='unemp',\n",
    "                           color_continuous_scale=\"Viridis\",\n",
    "                           range_color=(0, 12),\n",
    "                           scope=\"usa\",\n",
    "                           labels={'unemp':'unemployment rate'}\n",
    "                          )\n",
    "fig.update_layout(margin={\"r\":0,\"t\":0,\"l\":0,\"b\":0})\n",
    "fig.show()"
   ]
  }
 ],
 "metadata": {
  "kernelspec": {
   "display_name": "Python 3.9.12 ('base')",
   "language": "python",
   "name": "python3"
  },
  "language_info": {
   "codemirror_mode": {
    "name": "ipython",
    "version": 3
   },
   "file_extension": ".py",
   "mimetype": "text/x-python",
   "name": "python",
   "nbconvert_exporter": "python",
   "pygments_lexer": "ipython3",
   "version": "3.9.12"
  },
  "orig_nbformat": 4,
  "vscode": {
   "interpreter": {
    "hash": "0ba05273ff133e9d99b79561c5f1723ec4246160d49e2a672b8f17f03bb3f75b"
   }
  }
 },
 "nbformat": 4,
 "nbformat_minor": 2
}
