{
 "cells": [
  {
   "cell_type": "code",
   "execution_count": 1,
   "metadata": {},
   "outputs": [],
   "source": [
    "import plotly.express as px\n",
    "import plotly.graph_objects as go\n",
    "import json\n",
    "import pandas as pd\n",
    "import numpy as np\n",
    "import itertools\n",
    "import matplotlib.pyplot as plt\n",
    "import matplotlib.animation as animation\n",
    "import plotly.io as pio\n",
    "import folium\n",
    "import geopandas as gpd"
   ]
  },
  {
   "cell_type": "code",
   "execution_count": 2,
   "metadata": {},
   "outputs": [
    {
     "ename": "ImportError",
     "evalue": "The 'read_file' function requires the 'pyogrio' or 'fiona' package, but neither is installed or imports correctly.\nImporting fiona resulted in: DLL load failed while importing ogrext: Kan opgegeven module niet vinden.\nImporting pyogrio resulted in: No module named 'pyogrio'",
     "output_type": "error",
     "traceback": [
      "\u001b[1;31m---------------------------------------------------------------------------\u001b[0m",
      "\u001b[1;31mImportError\u001b[0m                               Traceback (most recent call last)",
      "\u001b[1;32mc:\\Users\\pim\\Documents\\GitHub\\TIL6022-project\\Netherlands map\\Pim.ipynb Cell 2\u001b[0m in \u001b[0;36m<cell line: 2>\u001b[1;34m()\u001b[0m\n\u001b[0;32m      <a href='vscode-notebook-cell:/c%3A/Users/pim/Documents/GitHub/TIL6022-project/Netherlands%20map/Pim.ipynb#W1sZmlsZQ%3D%3D?line=0'>1</a>\u001b[0m file_path \u001b[39m=\u001b[39m \u001b[39m'\u001b[39m\u001b[39mdata/provincies/B1_Provinciegrenzen_van_NederlandPolygon.shp\u001b[39m\u001b[39m'\u001b[39m\n\u001b[1;32m----> <a href='vscode-notebook-cell:/c%3A/Users/pim/Documents/GitHub/TIL6022-project/Netherlands%20map/Pim.ipynb#W1sZmlsZQ%3D%3D?line=1'>2</a>\u001b[0m gdf_prov \u001b[39m=\u001b[39m gpd\u001b[39m.\u001b[39;49mread_file(file_path)\n",
      "File \u001b[1;32mc:\\Users\\pim\\anaconda3\\lib\\site-packages\\geopandas\\io\\file.py:236\u001b[0m, in \u001b[0;36m_read_file\u001b[1;34m(filename, bbox, mask, rows, engine, **kwargs)\u001b[0m\n\u001b[0;32m    167\u001b[0m \u001b[39mdef\u001b[39;00m \u001b[39m_read_file\u001b[39m(filename, bbox\u001b[39m=\u001b[39m\u001b[39mNone\u001b[39;00m, mask\u001b[39m=\u001b[39m\u001b[39mNone\u001b[39;00m, rows\u001b[39m=\u001b[39m\u001b[39mNone\u001b[39;00m, engine\u001b[39m=\u001b[39m\u001b[39mNone\u001b[39;00m, \u001b[39m*\u001b[39m\u001b[39m*\u001b[39mkwargs):\n\u001b[0;32m    168\u001b[0m     \u001b[39m\"\"\"\u001b[39;00m\n\u001b[0;32m    169\u001b[0m \u001b[39m    Returns a GeoDataFrame from a file or URL.\u001b[39;00m\n\u001b[0;32m    170\u001b[0m \n\u001b[1;32m   (...)\u001b[0m\n\u001b[0;32m    234\u001b[0m \u001b[39m    by using the encoding keyword parameter, e.g. ``encoding='utf-8'``.\u001b[39;00m\n\u001b[0;32m    235\u001b[0m \u001b[39m    \"\"\"\u001b[39;00m\n\u001b[1;32m--> 236\u001b[0m     engine \u001b[39m=\u001b[39m _check_engine(engine, \u001b[39m\"\u001b[39;49m\u001b[39m'\u001b[39;49m\u001b[39mread_file\u001b[39;49m\u001b[39m'\u001b[39;49m\u001b[39m function\u001b[39;49m\u001b[39m\"\u001b[39;49m)\n\u001b[0;32m    238\u001b[0m     filename \u001b[39m=\u001b[39m _expand_user(filename)\n\u001b[0;32m    240\u001b[0m     from_bytes \u001b[39m=\u001b[39m \u001b[39mFalse\u001b[39;00m\n",
      "File \u001b[1;32mc:\\Users\\pim\\anaconda3\\lib\\site-packages\\geopandas\\io\\file.py:107\u001b[0m, in \u001b[0;36m_check_engine\u001b[1;34m(engine, func)\u001b[0m\n\u001b[0;32m    105\u001b[0m     _check_pyogrio(func)\n\u001b[0;32m    106\u001b[0m \u001b[39melif\u001b[39;00m engine \u001b[39mis\u001b[39;00m \u001b[39mNone\u001b[39;00m:\n\u001b[1;32m--> 107\u001b[0m     \u001b[39mraise\u001b[39;00m \u001b[39mImportError\u001b[39;00m(\n\u001b[0;32m    108\u001b[0m         \u001b[39mf\u001b[39m\u001b[39m\"\u001b[39m\u001b[39mThe \u001b[39m\u001b[39m{\u001b[39;00mfunc\u001b[39m}\u001b[39;00m\u001b[39m requires the \u001b[39m\u001b[39m'\u001b[39m\u001b[39mpyogrio\u001b[39m\u001b[39m'\u001b[39m\u001b[39m or \u001b[39m\u001b[39m'\u001b[39m\u001b[39mfiona\u001b[39m\u001b[39m'\u001b[39m\u001b[39m package, \u001b[39m\u001b[39m\"\u001b[39m\n\u001b[0;32m    109\u001b[0m         \u001b[39m\"\u001b[39m\u001b[39mbut neither is installed or imports correctly.\u001b[39m\u001b[39m\"\u001b[39m\n\u001b[0;32m    110\u001b[0m         \u001b[39mf\u001b[39m\u001b[39m\"\u001b[39m\u001b[39m\\n\u001b[39;00m\u001b[39mImporting fiona resulted in: \u001b[39m\u001b[39m{\u001b[39;00mfiona_import_error\u001b[39m}\u001b[39;00m\u001b[39m\"\u001b[39m\n\u001b[0;32m    111\u001b[0m         \u001b[39mf\u001b[39m\u001b[39m\"\u001b[39m\u001b[39m\\n\u001b[39;00m\u001b[39mImporting pyogrio resulted in: \u001b[39m\u001b[39m{\u001b[39;00mpyogrio_import_error\u001b[39m}\u001b[39;00m\u001b[39m\"\u001b[39m\n\u001b[0;32m    112\u001b[0m     )\n\u001b[0;32m    114\u001b[0m \u001b[39mreturn\u001b[39;00m engine\n",
      "\u001b[1;31mImportError\u001b[0m: The 'read_file' function requires the 'pyogrio' or 'fiona' package, but neither is installed or imports correctly.\nImporting fiona resulted in: DLL load failed while importing ogrext: Kan opgegeven module niet vinden.\nImporting pyogrio resulted in: No module named 'pyogrio'"
     ]
    }
   ],
   "source": [
    "file_path = 'data/provincies/B1_Provinciegrenzen_van_NederlandPolygon.shp'\n",
    "gdf_prov = gpd.read_file(file_path)\n"
   ]
  },
  {
   "cell_type": "code",
   "execution_count": 13,
   "metadata": {},
   "outputs": [
    {
     "name": "stdout",
     "output_type": "stream",
     "text": [
      "         Province  Stores\n",
      "0       Groningen     850\n",
      "1         Fryslân    1235\n",
      "2         Drenthe     810\n",
      "3      Overijssel    2030\n",
      "4       Flevoland     665\n",
      "5      Gelderland    3400\n",
      "6         Utrecht    2130\n",
      "7   Noord-Holland    5040\n",
      "8    Zuid-Holland    5160\n",
      "9         Zeeland     825\n",
      "10  Noord-Brabant    4115\n",
      "11        Limburg    2240\n"
     ]
    }
   ],
   "source": [
    "df = pd.read_csv('Stores_province_data.csv', delimiter = ';', index_col = 0)\n",
    "df1 = []\n",
    "df.iloc[5, :] #sum of all stores per province\n",
    "for i in range(0, 12): \n",
    "    t = df.iloc[5,i*8] #only print the data from 2012\n",
    "    df1.append(t)\n",
    "\n",
    "province1 = ['Groningen', 'Fryslân', 'Drenthe', 'Overijssel', 'Flevoland', 'Gelderland', 'Utrecht', 'Noord-Holland', 'Zuid-Holland', 'Zeeland', 'Noord-Brabant', 'Limburg']\n",
    "province = pd.DataFrame(province1, columns = ['Province'])\n",
    "df3 = pd.DataFrame(df1, columns = ['Stores'])\n",
    "df2 = pd.read_csv('Stores_province_data_2012.csv', delimiter = ';', index_col = 0)\n",
    "\n",
    "df_2012 = pd.concat([province,df3], axis=1)\n",
    "\n",
    "df4 = []\n",
    "for i in range(0, 12):\n",
    "    t = df.iloc[5,i*8+7]\n",
    "    df4.append(t)\n",
    "df5 = pd.DataFrame(df4, columns = ['Stores'])\n",
    "\n",
    "df_2019 = pd.concat([province,df5], axis=1)\n",
    "print(df_2019)"
   ]
  },
  {
   "cell_type": "code",
   "execution_count": 4,
   "metadata": {},
   "outputs": [
    {
     "ename": "NameError",
     "evalue": "name 'gdf_prov' is not defined",
     "output_type": "error",
     "traceback": [
      "\u001b[1;31m---------------------------------------------------------------------------\u001b[0m",
      "\u001b[1;31mNameError\u001b[0m                                 Traceback (most recent call last)",
      "\u001b[1;32mc:\\Users\\pim\\Documents\\GitHub\\TIL6022-project\\Netherlands map\\Pim.ipynb Cell 4\u001b[0m in \u001b[0;36m<cell line: 1>\u001b[1;34m()\u001b[0m\n\u001b[1;32m----> <a href='vscode-notebook-cell:/c%3A/Users/pim/Documents/GitHub/TIL6022-project/Netherlands%20map/Pim.ipynb#W4sZmlsZQ%3D%3D?line=0'>1</a>\u001b[0m gdf_prov \u001b[39m=\u001b[39m pd\u001b[39m.\u001b[39mmerge(gdf_prov, df4, left_on\u001b[39m=\u001b[39m\u001b[39m'\u001b[39m\u001b[39mPROV_NAAM\u001b[39m\u001b[39m'\u001b[39m, right_on\u001b[39m=\u001b[39m\u001b[39m'\u001b[39m\u001b[39mprovince\u001b[39m\u001b[39m'\u001b[39m, how\u001b[39m=\u001b[39m\u001b[39m'\u001b[39m\u001b[39mleft\u001b[39m\u001b[39m'\u001b[39m)\n\u001b[0;32m      <a href='vscode-notebook-cell:/c%3A/Users/pim/Documents/GitHub/TIL6022-project/Netherlands%20map/Pim.ipynb#W4sZmlsZQ%3D%3D?line=2'>3</a>\u001b[0m \u001b[39mprint\u001b[39m(\u001b[39mtype\u001b[39m(gdf_prov))\n\u001b[0;32m      <a href='vscode-notebook-cell:/c%3A/Users/pim/Documents/GitHub/TIL6022-project/Netherlands%20map/Pim.ipynb#W4sZmlsZQ%3D%3D?line=3'>4</a>\u001b[0m gdf_prov\n",
      "\u001b[1;31mNameError\u001b[0m: name 'gdf_prov' is not defined"
     ]
    }
   ],
   "source": [
    "gdf_prov_2012 = pd.merge(gdf_prov, df_2012, left_on='PROV_NAAM', right_on='province', how='left')\n",
    "\n",
    "gdf_prov_2019 = pd.merge(gdf_prov, df_2019, left_on='PROV_NAAM', right_on='province', how='left')\n"
   ]
  },
  {
   "cell_type": "code",
   "execution_count": 5,
   "metadata": {},
   "outputs": [
    {
     "ename": "NameError",
     "evalue": "name 'gdf_prov' is not defined",
     "output_type": "error",
     "traceback": [
      "\u001b[1;31m---------------------------------------------------------------------------\u001b[0m",
      "\u001b[1;31mNameError\u001b[0m                                 Traceback (most recent call last)",
      "\u001b[1;32mc:\\Users\\pim\\Documents\\GitHub\\TIL6022-project\\Netherlands map\\Pim.ipynb Cell 5\u001b[0m in \u001b[0;36m<cell line: 4>\u001b[1;34m()\u001b[0m\n\u001b[0;32m      <a href='vscode-notebook-cell:/c%3A/Users/pim/Documents/GitHub/TIL6022-project/Netherlands%20map/Pim.ipynb#W5sZmlsZQ%3D%3D?line=0'>1</a>\u001b[0m fig, ax \u001b[39m=\u001b[39m plt\u001b[39m.\u001b[39msubplots(figsize\u001b[39m=\u001b[39m(\u001b[39m8\u001b[39m,\u001b[39m8\u001b[39m))\n\u001b[0;32m      <a href='vscode-notebook-cell:/c%3A/Users/pim/Documents/GitHub/TIL6022-project/Netherlands%20map/Pim.ipynb#W5sZmlsZQ%3D%3D?line=2'>3</a>\u001b[0m column \u001b[39m=\u001b[39m \u001b[39m'\u001b[39m\u001b[39mStores\u001b[39m\u001b[39m'\u001b[39m\n\u001b[1;32m----> <a href='vscode-notebook-cell:/c%3A/Users/pim/Documents/GitHub/TIL6022-project/Netherlands%20map/Pim.ipynb#W5sZmlsZQ%3D%3D?line=3'>4</a>\u001b[0m gdf_prov\u001b[39m.\u001b[39mplot(ax\u001b[39m=\u001b[39max, facecolor\u001b[39m=\u001b[39m\u001b[39m'\u001b[39m\u001b[39mnone\u001b[39m\u001b[39m'\u001b[39m, edgecolor\u001b[39m=\u001b[39m\u001b[39m'\u001b[39m\u001b[39mgray\u001b[39m\u001b[39m'\u001b[39m, column\u001b[39m=\u001b[39mcolumn, legend\u001b[39m=\u001b[39m\u001b[39mTrue\u001b[39;00m)\n\u001b[0;32m      <a href='vscode-notebook-cell:/c%3A/Users/pim/Documents/GitHub/TIL6022-project/Netherlands%20map/Pim.ipynb#W5sZmlsZQ%3D%3D?line=4'>5</a>\u001b[0m plt\u001b[39m.\u001b[39mshow()\n",
      "\u001b[1;31mNameError\u001b[0m: name 'gdf_prov' is not defined"
     ]
    },
    {
     "data": {
      "image/png": "[encoded data removed]",
      "text/plain": [
       "<Figure size 576x576 with 1 Axes>"
      ]
     },
     "metadata": {
      "needs_background": "light"
     },
     "output_type": "display_data"
    }
   ],
   "source": [
    "fig, ax = plt.subplots(figsize=(8,8))\n",
    "\n",
    "column = 'Stores'\n",
    "gdf_prov_2012.plot(ax=ax, facecolor='none', edgecolor='gray', column=column, legend=True)\n",
    "plt.show()\n",
    "\n",
    "\n"
   ]
  }
 ],
 "metadata": {
  "kernelspec": {
   "display_name": "Python 3.9.12 ('base')",
   "language": "python",
   "name": "python3"
  },
  "language_info": {
   "codemirror_mode": {
    "name": "ipython",
    "version": 3
   },
   "file_extension": ".py",
   "mimetype": "text/x-python",
   "name": "python",
   "nbconvert_exporter": "python",
   "pygments_lexer": "ipython3",
   "version": "3.9.12"
  },
  "orig_nbformat": 4,
  "vscode": {
   "interpreter": {
    "hash": "0ba05273ff133e9d99b79561c5f1723ec4246160d49e2a672b8f17f03bb3f75b"
   }
  }
 },
 "nbformat": 4,
 "nbformat_minor": 2
}
