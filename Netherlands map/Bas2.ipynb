{
 "cells": [
  {
   "cell_type": "code",
   "execution_count": 1,
   "metadata": {},
   "outputs": [],
   "source": [
    "import plotly.express as px\n",
    "import plotly.graph_objects as go\n",
    "import json\n",
    "import pandas as pd\n",
    "import numpy as np\n",
    "import itertools\n",
    "import matplotlib.pyplot as plt\n",
    "import matplotlib.animation as animation\n",
    "import plotly.io as pio\n",
    "import folium\n",
    "import geopandas as gpd"
   ]
  },
  {
   "cell_type": "code",
   "execution_count": 2,
   "metadata": {},
   "outputs": [],
   "source": [
    "file_path = 'data/provincies/B1_Provinciegrenzen_van_NederlandPolygon.shp'\n",
    "gdf_prov = gpd.read_file(file_path)"
   ]
  },
  {
   "cell_type": "code",
   "execution_count": 3,
   "metadata": {},
   "outputs": [
    {
     "name": "stdout",
     "output_type": "stream",
     "text": [
      "        Provincie  Stores\n",
      "0       Groningen     850\n",
      "1         Fryslân    1235\n",
      "2         Drenthe     810\n",
      "3      Overijssel    2030\n",
      "4       Flevoland     665\n",
      "5      Gelderland    3400\n",
      "6         Utrecht    2130\n",
      "7   Noord-Holland    5040\n",
      "8    Zuid-Holland    5160\n",
      "9         Zeeland     825\n",
      "10  Noord-Brabant    4115\n",
      "11        Limburg    2240\n"
     ]
    }
   ],
   "source": [
    "df = pd.read_csv('Stores_province_data.csv', delimiter = ';', index_col = 0)\n",
    "df1 = []\n",
    "df.iloc[5, :] #sum of all stores per province\n",
    "for i in range(0, 12): \n",
    "    t = df.iloc[5,i*8] #only print the data from 2012\n",
    "    df1.append(t)\n",
    "\n",
    "province1 = ['Groningen', 'Fryslân', 'Drenthe', 'Overijssel', 'Flevoland', 'Gelderland', 'Utrecht', 'Noord-Holland', 'Zuid-Holland', 'Zeeland', 'Noord-Brabant', 'Limburg']\n",
    "province = pd.DataFrame(province1, columns = ['Provincie'])\n",
    "df3 = pd.DataFrame(df1, columns = ['Stores'])\n",
    "#df2 = pd.read_csv('Stores_province_data_2012.csv', delimiter = ';', index_col = 0)\n",
    "\n",
    "df_2012 = pd.concat([province,df3], axis=1)\n",
    "\n",
    "df4 = []\n",
    "for i in range(0, 12):\n",
    "    t = df.iloc[5,i*8+7]\n",
    "    df4.append(t)\n",
    "df5 = pd.DataFrame(df4, columns = ['Stores'])\n",
    "\n",
    "df_2019 = pd.concat([province,df5], axis=1)\n",
    "print(df_2019)"
   ]
  },
  {
   "cell_type": "code",
   "execution_count": 4,
   "metadata": {},
   "outputs": [],
   "source": [
    "gdf_prov_2012 = pd.merge(gdf_prov, df_2012, left_on='PROV_NAAM', right_on='Provincie', how='left')\n",
    "\n",
    "gdf_prov_2019 = pd.merge(gdf_prov, df_2019, left_on='PROV_NAAM', right_on='Provincie', how='left')"
   ]
  },
  {
   "cell_type": "code",
   "execution_count": 8,
   "metadata": {},
   "outputs": [
    {
     "name": "stdout",
     "output_type": "stream",
     "text": [
      "        Provincie  Stores\n",
      "0       Groningen     850\n",
      "1         Fryslân    1235\n",
      "2         Drenthe     810\n",
      "3      Overijssel    2030\n",
      "4       Flevoland     665\n",
      "5      Gelderland    3400\n",
      "6         Utrecht    2130\n",
      "7   Noord-Holland    5040\n",
      "8    Zuid-Holland    5160\n",
      "9         Zeeland     825\n",
      "10  Noord-Brabant    4115\n",
      "11        Limburg    2240\n"
     ]
    }
   ],
   "source": [
    "df = pd.read_csv('Stores_province_data.csv', delimiter = ';', index_col = 0)\n",
    "df1 = []\n",
    "df.iloc[5, :] #sum of all stores per province\n",
    "for i in range(0, 12): \n",
    "    t = df.iloc[5,i*8] #only print the data from 2012\n",
    "    df1.append(t)\n",
    "\n",
    "province1 = ['Groningen', 'Fryslân', 'Drenthe', 'Overijssel', 'Flevoland', 'Gelderland', 'Utrecht', 'Noord-Holland', 'Zuid-Holland', 'Zeeland', 'Noord-Brabant', 'Limburg']\n",
    "province = pd.DataFrame(province1, columns = ['Provincie'])\n",
    "df3 = pd.DataFrame(df1, columns = ['Stores'])\n",
    "#df2 = pd.read_csv('Stores_province_data_2012.csv', delimiter = ';', index_col = 0)\n",
    "\n",
    "df_2012 = pd.concat([province,df3], axis=1)\n",
    "\n",
    "df4 = []\n",
    "for i in range(0, 12):\n",
    "    t = df.iloc[5,i*8+7]\n",
    "    df4.append(t)\n",
    "df5 = pd.DataFrame(df4, columns = ['Stores'])\n",
    "\n",
    "df_2019 = pd.concat([province,df5], axis=1)\n",
    "print(df_2019)"
   ]
  },
  {
   "cell_type": "code",
   "execution_count": 11,
   "metadata": {},
   "outputs": [
    {
     "name": "stdout",
     "output_type": "stream",
     "text": [
      "        Provincie  Stores decline\n",
      "0       Groningen             240\n",
      "1         Fryslân             330\n",
      "2         Drenthe             185\n",
      "3      Overijssel             400\n",
      "4       Flevoland              40\n",
      "5      Gelderland             745\n",
      "6         Utrecht             310\n",
      "7   Noord-Holland            1110\n",
      "8    Zuid-Holland            1270\n",
      "9         Zeeland             240\n",
      "10  Noord-Brabant            1055\n",
      "11        Limburg             370\n"
     ]
    }
   ],
   "source": [
    "dftest = []\n",
    "for i in range(0, 12):\n",
    "    t = df.iloc[5,i*8]\n",
    "    u = df.iloc[5,i*8+7]\n",
    "    dftest.append(t-u)\n",
    "dfnew = pd.DataFrame(dftest, columns = ['Stores decline'])\n",
    "\n",
    "df_decline = pd.concat([province,dfnew], axis=1)\n",
    "print(df_decline)"
   ]
  },
  {
   "cell_type": "code",
   "execution_count": null,
   "metadata": {},
   "outputs": [],
   "source": []
  }
 ],
 "metadata": {
  "kernelspec": {
   "display_name": "Python 3.10.4 ('TIL6022')",
   "language": "python",
   "name": "python3"
  },
  "language_info": {
   "codemirror_mode": {
    "name": "ipython",
    "version": 3
   },
   "file_extension": ".py",
   "mimetype": "text/x-python",
   "name": "python",
   "nbconvert_exporter": "python",
   "pygments_lexer": "ipython3",
   "version": "3.10.4"
  },
  "orig_nbformat": 4,
  "vscode": {
   "interpreter": {
    "hash": "bc0b00cdade7f3e5329486dd9f90c3722dc4c54242e631b6a5aa371d7afb8a16"
   }
  }
 },
 "nbformat": 4,
 "nbformat_minor": 2
}
