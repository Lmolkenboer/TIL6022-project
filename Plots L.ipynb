{
 "cells": [
  {
   "cell_type": "code",
   "execution_count": 2,
   "metadata": {},
   "outputs": [
    {
     "name": "stderr",
     "output_type": "stream",
     "text": [
      "c:\\Users\\laeti\\Anaconda3\\lib\\site-packages\\matplotlib\\cbook\\__init__.py:1377: FutureWarning: Support for multi-dimensional indexing (e.g. `obj[:, None]`) is deprecated and will be removed in a future version.  Convert to a numpy array before indexing instead.\n",
      "  x[:, None]\n",
      "c:\\Users\\laeti\\Anaconda3\\lib\\site-packages\\matplotlib\\axes\\_base.py:237: FutureWarning: Support for multi-dimensional indexing (e.g. `obj[:, None]`) is deprecated and will be removed in a future version.  Convert to a numpy array before indexing instead.\n",
      "  x = x[:, np.newaxis]\n",
      "c:\\Users\\laeti\\Anaconda3\\lib\\site-packages\\matplotlib\\axes\\_base.py:239: FutureWarning: Support for multi-dimensional indexing (e.g. `obj[:, None]`) is deprecated and will be removed in a future version.  Convert to a numpy array before indexing instead.\n",
      "  y = y[:, np.newaxis]\n"
     ]
    },
    {
     "data": {
      "text/plain": [
       "<Figure size 1200x900 with 8 Axes>"
      ]
     },
     "metadata": {},
     "output_type": "display_data"
    }
   ],
   "source": [
    "import pandas as pd\n",
    "import numpy as np\n",
    "import math\n",
    "import scipy\n",
    "\n",
    "import matplotlib.pyplot as plt\n",
    "import seaborn as sns\n",
    "import plotly.express as px\n",
    "import plotly.graph_objects as go\n",
    "\n",
    "import plotly.io as pio\n",
    "\n",
    "file_path = (r\"Stores_country_data.csv\")\n",
    "df = pd.read_csv(file_path, delimiter=';')\n",
    "\n",
    "file_path2 = (r\"Data_online_shopping_population.csv\")\n",
    "df2 = pd.read_csv(file_path2, delimiter=';')\n",
    "\n",
    "###################################################################################\n",
    "\n",
    "fig = plt.figure(figsize=(12, 9))\n",
    "gs = fig.add_gridspec(nrows=2, ncols=2)\n",
    "\n",
    "###############################################################\n",
    "\n",
    "ax = fig.add_subplot(gs[0,0])\n",
    "x = df['Perioden']\n",
    "y00 = df['1. Kleding of sportartikelen']\n",
    "y01 = df2['Kleding of sportartikelen']\n",
    "\n",
    "line1 = ax.plot(x, y01, marker=\"o\", label = 'Online sales of clothes', color = 'g')\n",
    "ax.set_xlabel('Years',fontsize=14)\n",
    "ax.set_ylabel('Number of online purchases',fontsize=10)\n",
    "ax.set_title('Clothes and sportinggoods')\n",
    "ax.legend(loc = 'lower left')\n",
    "\n",
    "ax2=ax.twinx()\n",
    "# make a plot with different y-axis using second axis object\n",
    "line2 = ax2.plot(x,y00,marker=\"o\", label = 'Physical stores', color = 'b')\n",
    "ax2.set_ylabel(\"Number of stores\",fontsize=10)\n",
    "\n",
    "ax2.legend()\n",
    "\n",
    "###########################################################\n",
    "\n",
    "ax = fig.add_subplot(gs[0,1])\n",
    "y10 = df['2. Boeken, tijdschriften en kranten']\n",
    "y11 = df2['Boeken, tijdschriften en kranten']\n",
    "\n",
    "line1 = ax.plot(x, y11, marker=\"o\", label = 'Online sales of books/magazine/newspapers', color = 'g')\n",
    "ax.set_xlabel('Years',fontsize=14)\n",
    "ax.set_ylabel('Number of online purchases',fontsize=10)\n",
    "ax.set_title('Books/magazine/newspapers')\n",
    "ax.legend(loc = 'lower left')\n",
    "\n",
    "ax2=ax.twinx()\n",
    "# make a plot with different y-axis using second axis object\n",
    "line2 = ax2.plot(x,y10,marker=\"o\", label = 'Physical stores', color = 'b')\n",
    "ax2.set_ylabel(\"Number of stores\",fontsize=10)\n",
    "\n",
    "ax2.legend()\n",
    "########################################################################################################\n",
    "\n",
    "ax = fig.add_subplot(gs[1,1])\n",
    "y20 = df['3. Soft-/ hardware en elektronische benodig']\n",
    "y21 = df2['Soft-/ hardware en elektronische benodig']\n",
    "\n",
    "line1 = ax.plot(x, y21, marker=\"o\", label = 'Online sales of electronics', color = 'g')\n",
    "ax.set_xlabel('Years',fontsize=14)\n",
    "ax.set_ylabel('Number of online purchases',fontsize=10)\n",
    "ax.set_title('Electronics')\n",
    "ax.legend(loc = 'lower left')\n",
    "\n",
    "ax2=ax.twinx()\n",
    "# make a plot with different y-axis using second axis object\n",
    "line2 = ax2.plot(x,y20,marker=\"o\", label = 'Physical stores', color = 'b')\n",
    "ax2.set_ylabel(\"Number of stores\",fontsize=10)\n",
    "\n",
    "ax2.legend()\n",
    "\n",
    "###############################################################################################################\n",
    "\n",
    "ax = fig.add_subplot(gs[1,0])\n",
    "y30 = df['4. Huishoudelijke goederen en apparaten']\n",
    "y31 = df2['Huishoudelijke goederen en apparaten']\n",
    "\n",
    "line1 = ax.plot(x, y31, marker=\"o\", label = 'Online sales of household items', color = 'g')\n",
    "ax.set_xlabel('Years',fontsize=14)\n",
    "ax.set_ylabel('Number of online purchases',fontsize=10)\n",
    "ax.set_title('Household items')\n",
    "ax.legend(loc = 'lower left')\n",
    "\n",
    "ax2=ax.twinx()\n",
    "# make a plot with different y-axis using second axis object\n",
    "line2 = ax2.plot(x,y30,marker=\"o\", label = 'Physical stores', color = 'b')\n",
    "ax2.set_ylabel(\"Number of stores\",fontsize=10)\n",
    "\n",
    "ax2.legend()\n",
    "\n",
    "##########################################################################\n",
    "plt.tight_layout()\n",
    "plt.show()"
   ]
  },
  {
   "cell_type": "code",
   "execution_count": 61,
   "metadata": {},
   "outputs": [
    {
     "data": {
      "application/vnd.plotly.v1+json": {
       "config": {
        "plotlyServerURL": "https://plot.ly"
       },
       "data": [
        {
         "marker": {
          "color": "yellowgreen"
         },
         "name": "online sales of clothes",
         "type": "scatter",
         "x": [
          2012,
          2013,
          2014,
          2015,
          2016,
          2017,
          2018,
          2019
         ],
         "xaxis": "x",
         "y": [
          0.312,
          0.36700000000000005,
          0.405,
          0.424,
          0.479,
          0.52,
          0.555,
          0.55
         ],
         "yaxis": "y"
        },
        {
         "marker": {
          "color": "darkolivegreen"
         },
         "name": "online sales of books",
         "type": "scatter",
         "x": [
          2012,
          2013,
          2014,
          2015,
          2016,
          2017,
          2018,
          2019
         ],
         "xaxis": "x",
         "y": [
          0.22899999999999998,
          0.275,
          0.287,
          0.282,
          0.29100000000000004,
          0.29600000000000004,
          0.305,
          0.309
         ],
         "yaxis": "y"
        },
        {
         "marker": {
          "color": "darkseagreen"
         },
         "name": "online sales of electronics",
         "type": "scatter",
         "x": [
          2012,
          2013,
          2014,
          2015,
          2016,
          2017,
          2018,
          2019
         ],
         "xaxis": "x",
         "y": [
          0.128,
          0.166,
          0.183,
          0.248,
          0.261,
          0.289,
          0.223,
          0.302
         ],
         "yaxis": "y"
        },
        {
         "marker": {
          "color": "lime"
         },
         "name": "online sales of household goods",
         "type": "scatter",
         "x": [
          2012,
          2013,
          2014,
          2015,
          2016,
          2017,
          2018,
          2019
         ],
         "xaxis": "x",
         "y": [
          0.158,
          0.182,
          0.23199999999999998,
          0.239,
          0.28600000000000003,
          0.349,
          0.38,
          0.375
         ],
         "yaxis": "y"
        },
        {
         "marker": {
          "color": "blue"
         },
         "name": "physical clothing stores",
         "type": "scatter",
         "x": [
          2012,
          2013,
          2014,
          2015,
          2016,
          2017,
          2018,
          2019
         ],
         "xaxis": "x",
         "y": [
          1,
          0.9599412751677853,
          0.9215604026845637,
          0.9131711409395973,
          0.886744966442953,
          0.8458473154362416,
          0.8311661073825504,
          0.8120805369127517
         ],
         "yaxis": "y2"
        },
        {
         "marker": {
          "color": "midnightblue"
         },
         "name": "physical book stores",
         "type": "scatter",
         "x": [
          2012,
          2013,
          2014,
          2015,
          2016,
          2017,
          2018,
          2019
         ],
         "xaxis": "x",
         "y": [
          1,
          0.9824561403508771,
          0.918859649122807,
          0.8947368421052632,
          0.8574561403508771,
          0.8289473684210527,
          0.8004385964912281,
          0.7807017543859649
         ],
         "yaxis": "y2"
        },
        {
         "marker": {
          "color": "deepskyblue"
         },
         "name": "physical electronics stores",
         "type": "scatter",
         "x": [
          2012,
          2013,
          2014,
          2015,
          2016,
          2017,
          2018,
          2019
         ],
         "xaxis": "x",
         "y": [
          1,
          0.9960443037974683,
          0.9382911392405063,
          0.9414556962025317,
          0.9319620253164557,
          0.8995253164556962,
          0.867879746835443,
          0.8718354430379747
         ],
         "yaxis": "y2"
        },
        {
         "marker": {
          "color": "cornflowerblue"
         },
         "name": "physical household goods stores",
         "type": "scatter",
         "x": [
          2012,
          2013,
          2014,
          2015,
          2016,
          2017,
          2018,
          2019
         ],
         "xaxis": "x",
         "y": [
          1,
          0.9684418145956607,
          0.8994082840236687,
          0.8619329388560157,
          0.8402366863905325,
          0.7613412228796844,
          0.7416173570019724,
          0.727810650887574
         ],
         "yaxis": "y2"
        }
       ],
       "layout": {
        "template": {
         "data": {
          "bar": [
           {
            "error_x": {
             "color": "#2a3f5f"
            },
            "error_y": {
             "color": "#2a3f5f"
            },
            "marker": {
             "line": {
              "color": "#E5ECF6",
              "width": 0.5
             },
             "pattern": {
              "fillmode": "overlay",
              "size": 10,
              "solidity": 0.2
             }
            },
            "type": "bar"
           }
          ],
          "barpolar": [
           {
            "marker": {
             "line": {
              "color": "#E5ECF6",
              "width": 0.5
             },
             "pattern": {
              "fillmode": "overlay",
              "size": 10,
              "solidity": 0.2
             }
            },
            "type": "barpolar"
           }
          ],
          "carpet": [
           {
            "aaxis": {
             "endlinecolor": "#2a3f5f",
             "gridcolor": "white",
             "linecolor": "white",
             "minorgridcolor": "white",
             "startlinecolor": "#2a3f5f"
            },
            "baxis": {
             "endlinecolor": "#2a3f5f",
             "gridcolor": "white",
             "linecolor": "white",
             "minorgridcolor": "white",
             "startlinecolor": "#2a3f5f"
            },
            "type": "carpet"
           }
          ],
          "choropleth": [
           {
            "colorbar": {
             "outlinewidth": 0,
             "ticks": ""
            },
            "type": "choropleth"
           }
          ],
          "contour": [
           {
            "colorbar": {
             "outlinewidth": 0,
             "ticks": ""
            },
            "colorscale": [
             [
              0,
              "#0d0887"
             ],
             [
              0.1111111111111111,
              "#46039f"
             ],
             [
              0.2222222222222222,
              "#7201a8"
             ],
             [
              0.3333333333333333,
              "#9c179e"
             ],
             [
              0.4444444444444444,
              "#bd3786"
             ],
             [
              0.5555555555555556,
              "#d8576b"
             ],
             [
              0.6666666666666666,
              "#ed7953"
             ],
             [
              0.7777777777777778,
              "#fb9f3a"
             ],
             [
              0.8888888888888888,
              "#fdca26"
             ],
             [
              1,
              "#f0f921"
             ]
            ],
            "type": "contour"
           }
          ],
          "contourcarpet": [
           {
            "colorbar": {
             "outlinewidth": 0,
             "ticks": ""
            },
            "type": "contourcarpet"
           }
          ],
          "heatmap": [
           {
            "colorbar": {
             "outlinewidth": 0,
             "ticks": ""
            },
            "colorscale": [
             [
              0,
              "#0d0887"
             ],
             [
              0.1111111111111111,
              "#46039f"
             ],
             [
              0.2222222222222222,
              "#7201a8"
             ],
             [
              0.3333333333333333,
              "#9c179e"
             ],
             [
              0.4444444444444444,
              "#bd3786"
             ],
             [
              0.5555555555555556,
              "#d8576b"
             ],
             [
              0.6666666666666666,
              "#ed7953"
             ],
             [
              0.7777777777777778,
              "#fb9f3a"
             ],
             [
              0.8888888888888888,
              "#fdca26"
             ],
             [
              1,
              "#f0f921"
             ]
            ],
            "type": "heatmap"
           }
          ],
          "heatmapgl": [
           {
            "colorbar": {
             "outlinewidth": 0,
             "ticks": ""
            },
            "colorscale": [
             [
              0,
              "#0d0887"
             ],
             [
              0.1111111111111111,
              "#46039f"
             ],
             [
              0.2222222222222222,
              "#7201a8"
             ],
             [
              0.3333333333333333,
              "#9c179e"
             ],
             [
              0.4444444444444444,
              "#bd3786"
             ],
             [
              0.5555555555555556,
              "#d8576b"
             ],
             [
              0.6666666666666666,
              "#ed7953"
             ],
             [
              0.7777777777777778,
              "#fb9f3a"
             ],
             [
              0.8888888888888888,
              "#fdca26"
             ],
             [
              1,
              "#f0f921"
             ]
            ],
            "type": "heatmapgl"
           }
          ],
          "histogram": [
           {
            "marker": {
             "pattern": {
              "fillmode": "overlay",
              "size": 10,
              "solidity": 0.2
             }
            },
            "type": "histogram"
           }
          ],
          "histogram2d": [
           {
            "colorbar": {
             "outlinewidth": 0,
             "ticks": ""
            },
            "colorscale": [
             [
              0,
              "#0d0887"
             ],
             [
              0.1111111111111111,
              "#46039f"
             ],
             [
              0.2222222222222222,
              "#7201a8"
             ],
             [
              0.3333333333333333,
              "#9c179e"
             ],
             [
              0.4444444444444444,
              "#bd3786"
             ],
             [
              0.5555555555555556,
              "#d8576b"
             ],
             [
              0.6666666666666666,
              "#ed7953"
             ],
             [
              0.7777777777777778,
              "#fb9f3a"
             ],
             [
              0.8888888888888888,
              "#fdca26"
             ],
             [
              1,
              "#f0f921"
             ]
            ],
            "type": "histogram2d"
           }
          ],
          "histogram2dcontour": [
           {
            "colorbar": {
             "outlinewidth": 0,
             "ticks": ""
            },
            "colorscale": [
             [
              0,
              "#0d0887"
             ],
             [
              0.1111111111111111,
              "#46039f"
             ],
             [
              0.2222222222222222,
              "#7201a8"
             ],
             [
              0.3333333333333333,
              "#9c179e"
             ],
             [
              0.4444444444444444,
              "#bd3786"
             ],
             [
              0.5555555555555556,
              "#d8576b"
             ],
             [
              0.6666666666666666,
              "#ed7953"
             ],
             [
              0.7777777777777778,
              "#fb9f3a"
             ],
             [
              0.8888888888888888,
              "#fdca26"
             ],
             [
              1,
              "#f0f921"
             ]
            ],
            "type": "histogram2dcontour"
           }
          ],
          "mesh3d": [
           {
            "colorbar": {
             "outlinewidth": 0,
             "ticks": ""
            },
            "type": "mesh3d"
           }
          ],
          "parcoords": [
           {
            "line": {
             "colorbar": {
              "outlinewidth": 0,
              "ticks": ""
             }
            },
            "type": "parcoords"
           }
          ],
          "pie": [
           {
            "automargin": true,
            "type": "pie"
           }
          ],
          "scatter": [
           {
            "fillpattern": {
             "fillmode": "overlay",
             "size": 10,
             "solidity": 0.2
            },
            "type": "scatter"
           }
          ],
          "scatter3d": [
           {
            "line": {
             "colorbar": {
              "outlinewidth": 0,
              "ticks": ""
             }
            },
            "marker": {
             "colorbar": {
              "outlinewidth": 0,
              "ticks": ""
             }
            },
            "type": "scatter3d"
           }
          ],
          "scattercarpet": [
           {
            "marker": {
             "colorbar": {
              "outlinewidth": 0,
              "ticks": ""
             }
            },
            "type": "scattercarpet"
           }
          ],
          "scattergeo": [
           {
            "marker": {
             "colorbar": {
              "outlinewidth": 0,
              "ticks": ""
             }
            },
            "type": "scattergeo"
           }
          ],
          "scattergl": [
           {
            "marker": {
             "colorbar": {
              "outlinewidth": 0,
              "ticks": ""
             }
            },
            "type": "scattergl"
           }
          ],
          "scattermapbox": [
           {
            "marker": {
             "colorbar": {
              "outlinewidth": 0,
              "ticks": ""
             }
            },
            "type": "scattermapbox"
           }
          ],
          "scatterpolar": [
           {
            "marker": {
             "colorbar": {
              "outlinewidth": 0,
              "ticks": ""
             }
            },
            "type": "scatterpolar"
           }
          ],
          "scatterpolargl": [
           {
            "marker": {
             "colorbar": {
              "outlinewidth": 0,
              "ticks": ""
             }
            },
            "type": "scatterpolargl"
           }
          ],
          "scatterternary": [
           {
            "marker": {
             "colorbar": {
              "outlinewidth": 0,
              "ticks": ""
             }
            },
            "type": "scatterternary"
           }
          ],
          "surface": [
           {
            "colorbar": {
             "outlinewidth": 0,
             "ticks": ""
            },
            "colorscale": [
             [
              0,
              "#0d0887"
             ],
             [
              0.1111111111111111,
              "#46039f"
             ],
             [
              0.2222222222222222,
              "#7201a8"
             ],
             [
              0.3333333333333333,
              "#9c179e"
             ],
             [
              0.4444444444444444,
              "#bd3786"
             ],
             [
              0.5555555555555556,
              "#d8576b"
             ],
             [
              0.6666666666666666,
              "#ed7953"
             ],
             [
              0.7777777777777778,
              "#fb9f3a"
             ],
             [
              0.8888888888888888,
              "#fdca26"
             ],
             [
              1,
              "#f0f921"
             ]
            ],
            "type": "surface"
           }
          ],
          "table": [
           {
            "cells": {
             "fill": {
              "color": "#EBF0F8"
             },
             "line": {
              "color": "white"
             }
            },
            "header": {
             "fill": {
              "color": "#C8D4E3"
             },
             "line": {
              "color": "white"
             }
            },
            "type": "table"
           }
          ]
         },
         "layout": {
          "annotationdefaults": {
           "arrowcolor": "#2a3f5f",
           "arrowhead": 0,
           "arrowwidth": 1
          },
          "autotypenumbers": "strict",
          "coloraxis": {
           "colorbar": {
            "outlinewidth": 0,
            "ticks": ""
           }
          },
          "colorscale": {
           "diverging": [
            [
             0,
             "#8e0152"
            ],
            [
             0.1,
             "#c51b7d"
            ],
            [
             0.2,
             "#de77ae"
            ],
            [
             0.3,
             "#f1b6da"
            ],
            [
             0.4,
             "#fde0ef"
            ],
            [
             0.5,
             "#f7f7f7"
            ],
            [
             0.6,
             "#e6f5d0"
            ],
            [
             0.7,
             "#b8e186"
            ],
            [
             0.8,
             "#7fbc41"
            ],
            [
             0.9,
             "#4d9221"
            ],
            [
             1,
             "#276419"
            ]
           ],
           "sequential": [
            [
             0,
             "#0d0887"
            ],
            [
             0.1111111111111111,
             "#46039f"
            ],
            [
             0.2222222222222222,
             "#7201a8"
            ],
            [
             0.3333333333333333,
             "#9c179e"
            ],
            [
             0.4444444444444444,
             "#bd3786"
            ],
            [
             0.5555555555555556,
             "#d8576b"
            ],
            [
             0.6666666666666666,
             "#ed7953"
            ],
            [
             0.7777777777777778,
             "#fb9f3a"
            ],
            [
             0.8888888888888888,
             "#fdca26"
            ],
            [
             1,
             "#f0f921"
            ]
           ],
           "sequentialminus": [
            [
             0,
             "#0d0887"
            ],
            [
             0.1111111111111111,
             "#46039f"
            ],
            [
             0.2222222222222222,
             "#7201a8"
            ],
            [
             0.3333333333333333,
             "#9c179e"
            ],
            [
             0.4444444444444444,
             "#bd3786"
            ],
            [
             0.5555555555555556,
             "#d8576b"
            ],
            [
             0.6666666666666666,
             "#ed7953"
            ],
            [
             0.7777777777777778,
             "#fb9f3a"
            ],
            [
             0.8888888888888888,
             "#fdca26"
            ],
            [
             1,
             "#f0f921"
            ]
           ]
          },
          "colorway": [
           "#636efa",
           "#EF553B",
           "#00cc96",
           "#ab63fa",
           "#FFA15A",
           "#19d3f3",
           "#FF6692",
           "#B6E880",
           "#FF97FF",
           "#FECB52"
          ],
          "font": {
           "color": "#2a3f5f"
          },
          "geo": {
           "bgcolor": "white",
           "lakecolor": "white",
           "landcolor": "#E5ECF6",
           "showlakes": true,
           "showland": true,
           "subunitcolor": "white"
          },
          "hoverlabel": {
           "align": "left"
          },
          "hovermode": "closest",
          "mapbox": {
           "style": "light"
          },
          "paper_bgcolor": "white",
          "plot_bgcolor": "#E5ECF6",
          "polar": {
           "angularaxis": {
            "gridcolor": "white",
            "linecolor": "white",
            "ticks": ""
           },
           "bgcolor": "#E5ECF6",
           "radialaxis": {
            "gridcolor": "white",
            "linecolor": "white",
            "ticks": ""
           }
          },
          "scene": {
           "xaxis": {
            "backgroundcolor": "#E5ECF6",
            "gridcolor": "white",
            "gridwidth": 2,
            "linecolor": "white",
            "showbackground": true,
            "ticks": "",
            "zerolinecolor": "white"
           },
           "yaxis": {
            "backgroundcolor": "#E5ECF6",
            "gridcolor": "white",
            "gridwidth": 2,
            "linecolor": "white",
            "showbackground": true,
            "ticks": "",
            "zerolinecolor": "white"
           },
           "zaxis": {
            "backgroundcolor": "#E5ECF6",
            "gridcolor": "white",
            "gridwidth": 2,
            "linecolor": "white",
            "showbackground": true,
            "ticks": "",
            "zerolinecolor": "white"
           }
          },
          "shapedefaults": {
           "line": {
            "color": "#2a3f5f"
           }
          },
          "ternary": {
           "aaxis": {
            "gridcolor": "white",
            "linecolor": "white",
            "ticks": ""
           },
           "baxis": {
            "gridcolor": "white",
            "linecolor": "white",
            "ticks": ""
           },
           "bgcolor": "#E5ECF6",
           "caxis": {
            "gridcolor": "white",
            "linecolor": "white",
            "ticks": ""
           }
          },
          "title": {
           "x": 0.05
          },
          "xaxis": {
           "automargin": true,
           "gridcolor": "white",
           "linecolor": "white",
           "ticks": "",
           "title": {
            "standoff": 15
           },
           "zerolinecolor": "white",
           "zerolinewidth": 2
          },
          "yaxis": {
           "automargin": true,
           "gridcolor": "white",
           "linecolor": "white",
           "ticks": "",
           "title": {
            "standoff": 15
           },
           "zerolinecolor": "white",
           "zerolinewidth": 2
          }
         }
        },
        "title": {
         "text": "Decline of physical stores versus online sales"
        },
        "xaxis": {
         "anchor": "y",
         "domain": [
          0,
          0.94
         ],
         "title": {
          "text": "Year"
         }
        },
        "yaxis": {
         "anchor": "x",
         "domain": [
          0,
          1
         ],
         "title": {
          "text": "Percentage of people buying online"
         }
        },
        "yaxis2": {
         "anchor": "x",
         "overlaying": "y",
         "side": "right",
         "title": {
          "text": "Physical store decline"
         }
        }
       }
      }
     },
     "metadata": {},
     "output_type": "display_data"
    }
   ],
   "source": [
    "import plotly.graph_objects as go\n",
    "from plotly.subplots import make_subplots\n",
    "\n",
    "shopping_online = pd.read_csv('Data_online_shopping_total.csv', delimiter=';')\n",
    "phys_stores = pd.read_csv('Stores_country_data.csv', delimiter=';')\n",
    "\n",
    "fig = make_subplots(specs = [[{\"secondary_y\": True}]])\n",
    "\n",
    "fig.add_trace(\n",
    "    go.Scatter( x=shopping_online[\"Year\"], y = shopping_online[\"Kleding of sportartikelen\"]/100, name=\"online sales of clothes\", marker_color=\"yellowgreen\"),\n",
    "    secondary_y=False\n",
    ")\n",
    "\n",
    "fig.add_trace(\n",
    "    go.Scatter( x=shopping_online[\"Year\"], y = shopping_online[\"Boeken, tijdschriften en kranten\"]/100, name=\"online sales of books\", marker_color=\"darkolivegreen\"),\n",
    "    secondary_y=False\n",
    ")\n",
    "\n",
    "fig.add_trace(\n",
    "    go.Scatter( x=shopping_online[\"Year\"], y = shopping_online[\"Soft-/ hardware en elektronische benodig\"]/100, name=\"online sales of electronics\", marker_color=\"darkseagreen\"),\n",
    "    secondary_y=False\n",
    ")\n",
    "\n",
    "fig.add_trace(\n",
    "    go.Scatter( x=shopping_online[\"Year\"], y = shopping_online[\"Huishoudelijke goederen en apparaten\"]/100, name=\"online sales of household goods\", marker_color=\"lime\"),\n",
    "    secondary_y=False\n",
    ")\n",
    "\n",
    "fig.add_trace(\n",
    "    go.Scatter(x=phys_stores[\"Perioden\"], y = phys_stores[\"1. Kleding of sportartikelen\"]/phys_stores[\"1. Kleding of sportartikelen\"][0], name=\"physical clothing stores\", marker_color=\"blue\"),\n",
    "    secondary_y=True\n",
    ")\n",
    "\n",
    "fig.add_trace(\n",
    "    go.Scatter(x=phys_stores[\"Perioden\"], y = phys_stores[\"2. Boeken, tijdschriften en kranten\"]/phys_stores[\"2. Boeken, tijdschriften en kranten\"][0], name=\"physical book stores\", marker_color=\"midnightblue\"),\n",
    "    secondary_y=True\n",
    ")\n",
    "\n",
    "fig.add_trace(\n",
    "    go.Scatter(x=phys_stores[\"Perioden\"], y = phys_stores[\"3. Soft-/ hardware en elektronische benodig\"]/phys_stores[\"3. Soft-/ hardware en elektronische benodig\"][0], name=\"physical electronics stores\", marker_color=\"deepskyblue\"),\n",
    "    secondary_y=True\n",
    ")\n",
    "\n",
    "fig.add_trace(\n",
    "    go.Scatter(x=phys_stores[\"Perioden\"], y = phys_stores[\"4. Huishoudelijke goederen en apparaten\"]/phys_stores[\"4. Huishoudelijke goederen en apparaten\"][0], name=\"physical household goods stores\", marker_color=\"cornflowerblue\"),\n",
    "    secondary_y=True\n",
    ")\n",
    "\n",
    "# Set x-axis title\n",
    "fig.update_xaxes(title_text=\"Year\")\n",
    "\n",
    "# Set y-axes titles\n",
    "fig.update_yaxes(title_text=\"Percentage of people buying online\", secondary_y=False)\n",
    "fig.update_yaxes(title_text=\"Physical store decline\", secondary_y=True)\n",
    "\n",
    "#Set title\n",
    "fig.update_layout(\n",
    "    title_text=\"Decline of physical stores versus online sales\"\n",
    ")\n",
    "\n",
    "fig.show()"
   ]
  }
 ],
 "metadata": {
  "kernelspec": {
   "display_name": "Python 3.7.1 ('base')",
   "language": "python",
   "name": "python3"
  },
  "language_info": {
   "codemirror_mode": {
    "name": "ipython",
    "version": 3
   },
   "file_extension": ".py",
   "mimetype": "text/x-python",
   "name": "python",
   "nbconvert_exporter": "python",
   "pygments_lexer": "ipython3",
   "version": "3.7.1"
  },
  "orig_nbformat": 4,
  "vscode": {
   "interpreter": {
    "hash": "0e34ec9cc0edf39469f52a3f3ecbd79248976fac4b2cd99c3b35d1c6dd579e9e"
   }
  }
 },
 "nbformat": 4,
 "nbformat_minor": 2
}
