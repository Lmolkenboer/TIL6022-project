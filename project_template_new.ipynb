{
 "cells": [
  {
   "cell_type": "markdown",
   "metadata": {},
   "source": [
    "# Project Group - \n",
    "\n",
    "Members: \n",
    "Fleur de Boer, Bastiaan van der Hoeven, Laetitia Molkenboer, Pim van der Velde, Alfareeq Rosan\n",
    "\n",
    "Student numbers: \n",
    "4786297, x, 4553934, 4569857, x"
   ]
  },
  {
   "cell_type": "markdown",
   "metadata": {},
   "source": [
    "# Research Objective\n",
    "\n",
    "*Requires data modeling and quantitative research in Transport, Infrastructure & Logistics*"
   ]
  },
  {
   "cell_type": "markdown",
   "metadata": {},
   "source": [
    "Through the years the amount of physical stores is getting smaller due to the rise of webshops (Weltevreden, 2012). To see if the effects are declarable, different questions will be formulated. Chosen is to do an application project, because this could show any connections between the different kind of purchasing through the years. \n",
    "\n",
    "In this project the research question \"How did online shopping affect the number of physical stores in the Netherlands?\"  will be discussed and examined. The physical stores are divided in different categories:\n",
    "- Clothing and sporting goods\n",
    "- Books, Magazines and Newspapers\n",
    "- Household goods and appliances\n",
    "- Electronic devices and supplies (software & hardware)\n",
    "\n",
    "These categories are chosen to answer the following sub-question: 'Which different types of retail are more sensitive as a result of ecommerce?' Different plots will be computed to give a clear insight in the relations between certain aspects. The specific relations in the plots will be discussed below. \n",
    "\n",
    "The last question that will be discussed is: 'Which province in the Netherlands experienced the biggest change of the amount of physical stores over time?'\n",
    "\n",
    "To answer these questions the following plots will be made and discussed:\n",
    "- Overview of the population growth through the years\n",
    "- Diagram that shows the decrease in physical stores and the increase of online purchases\n",
    "- Animation through the years to show how the online and physical stores increased and decreased\n",
    "- Heatmap of the Netherlands to show which provinces are sensitive\n"
   ]
  },
  {
   "cell_type": "markdown",
   "metadata": {},
   "source": [
    "# Contribution Statement\n",
    "\n",
    "*Be specific. Some of the tasks can be coding (expect everyone to do this), background research, conceptualisation, visualisation, data analysis, data modelling*"
   ]
  },
  {
   "cell_type": "markdown",
   "metadata": {},
   "source": [
    "**Author 1: Fleur de Boer**: Introduction and overview of population growth\n",
    "\n",
    "**Author 2: Bastiaan van der Hoeven**:\n",
    "\n",
    "**Author 3: Laetitia Molkenboer**: Plots of online purchases versus physical stores for all 4 categories\n",
    "\n",
    "**Author 4: Pim van der Velde**: Heatmap of the Netherlands to show which provinces are most sensitive to change\n",
    "\n",
    "**Author 5: Alfareeq**:"
   ]
  },
  {
   "cell_type": "markdown",
   "metadata": {},
   "source": [
    "# Data Used"
   ]
  },
  {
   "cell_type": "markdown",
   "metadata": {},
   "source": [
    "For the execution of this programming project, three datasets were used. These are the following:\n",
    "\n",
    "1.\tOnline shopping dataset: \n",
    "https://www.cbs.nl/nl-nl/cijfers/detail/83430NED \n",
    "2.\tPhysical stores in The Netherlands:\n",
    "https://opendata.cbs.nl/statline/#/CBS/nl/dataset/81578NED/table?dl=2E131 \n",
    "3.\tPopulation distribution by age:\n",
    "https://opendata.cbs.nl/statline/#/CBS/nl/dataset/7461BEV/table?fromstatweb \n",
    "\n",
    "The first dataset contains the percentages of Dutch civilians above the age of 11 that purchase goods online. The dataset contains percentages for different categories. The first column contains the total percentages of people buying online. The other columns show the percentages of people buying specific goods. Since this dataset only gives percentages, the third dataset is used to quantify the percentages of people above 12 years old to a number of people above 12 years old. The following categories of this dataset have been used in this programming assignment:\n",
    "\n",
    "- Total online purchases\n",
    "- Clothes or sportarticles\n",
    "- Books, magazines and papers\n",
    "- Soft-/hardware and electronics\t\n",
    "- Household goods and devices\t\n",
    "\n",
    "The second dataset contains all numbers of physical establishments of companies in the Netherlands. This varies from energy plants to greenhouses and from flower stores to car manufacturers. For this assignment we are only interested in stores that comply with the categories of the first dataset. The list below shows in brackets which types of stores from this second dataset were preprocessed over the 4 categories of the first dataset.\n",
    "\n",
    "1. Clothes or sportarticles (Winkels in watersportartikelen, Winkels in sportartikelen, Winkels in kleding & Winkels in schoenen en lederwaren)\n",
    "2. Books, magazines and papers (Boekenwinkels, Winkels in lectuur en schrijfwaren)\n",
    "3. Soft-/hardware and electronics (Winkels in consumentenelektronica, Winkels in computers en software, Winkels in communicatieapparatuur)\t\n",
    "4. Household goods and devices (Winkels in wit- en bruingoed; Winkels elektr. huishoudapparatuur)\n"
   ]
  },
  {
   "cell_type": "markdown",
   "metadata": {},
   "source": [
    "# Data Pipeline\n"
   ]
  },
  {
   "cell_type": "code",
   "execution_count": 2,
   "metadata": {},
   "outputs": [],
   "source": [
    "import pandas as pd\n",
    "import plotly.express as px\n",
    "import matplotlib.pyplot as plt"
   ]
  },
  {
   "cell_type": "code",
   "execution_count": 3,
   "metadata": {},
   "outputs": [
    {
     "data": {
      "text/html": [
       "<div>\n",
       "<style scoped>\n",
       "    .dataframe tbody tr th:only-of-type {\n",
       "        vertical-align: middle;\n",
       "    }\n",
       "\n",
       "    .dataframe tbody tr th {\n",
       "        vertical-align: top;\n",
       "    }\n",
       "\n",
       "    .dataframe thead th {\n",
       "        text-align: right;\n",
       "    }\n",
       "</style>\n",
       "<table border=\"1\" class=\"dataframe\">\n",
       "  <thead>\n",
       "    <tr style=\"text-align: right;\">\n",
       "      <th></th>\n",
       "      <th>year</th>\n",
       "      <th>population 12+</th>\n",
       "    </tr>\n",
       "  </thead>\n",
       "  <tbody>\n",
       "    <tr>\n",
       "      <th>0</th>\n",
       "      <td>2012</td>\n",
       "      <td>14453963</td>\n",
       "    </tr>\n",
       "    <tr>\n",
       "      <th>1</th>\n",
       "      <td>2013</td>\n",
       "      <td>14534450</td>\n",
       "    </tr>\n",
       "    <tr>\n",
       "      <th>2</th>\n",
       "      <td>2014</td>\n",
       "      <td>14615104</td>\n",
       "    </tr>\n",
       "    <tr>\n",
       "      <th>3</th>\n",
       "      <td>2015</td>\n",
       "      <td>14710310</td>\n",
       "    </tr>\n",
       "    <tr>\n",
       "      <th>4</th>\n",
       "      <td>2016</td>\n",
       "      <td>14812838</td>\n",
       "    </tr>\n",
       "    <tr>\n",
       "      <th>5</th>\n",
       "      <td>2017</td>\n",
       "      <td>14927830</td>\n",
       "    </tr>\n",
       "    <tr>\n",
       "      <th>6</th>\n",
       "      <td>2018</td>\n",
       "      <td>15036742</td>\n",
       "    </tr>\n",
       "    <tr>\n",
       "      <th>7</th>\n",
       "      <td>2019</td>\n",
       "      <td>15149650</td>\n",
       "    </tr>\n",
       "  </tbody>\n",
       "</table>\n",
       "</div>"
      ],
      "text/plain": [
       "   year  population 12+\n",
       "0  2012        14453963\n",
       "1  2013        14534450\n",
       "2  2014        14615104\n",
       "3  2015        14710310\n",
       "4  2016        14812838\n",
       "5  2017        14927830\n",
       "6  2018        15036742\n",
       "7  2019        15149650"
      ]
     },
     "execution_count": 3,
     "metadata": {},
     "output_type": "execute_result"
    }
   ],
   "source": [
    "#Plot 1: Plot to see the population growth through the years\n",
    "\n",
    "population = (r\"Data_stores\\Bevolking.csv\")\n",
    "\n",
    "df = pd.read_csv(population, delimiter = ';')\n",
    "df.iloc[0:8]"
   ]
  },
  {
   "cell_type": "code",
   "execution_count": 4,
   "metadata": {},
   "outputs": [
    {
     "data": {
      "application/vnd.plotly.v1+json": {
       "config": {
        "plotlyServerURL": "https://plot.ly"
       },
       "data": [
        {
         "alignmentgroup": "True",
         "hovertemplate": "year=%{marker.color}<br>population 12+=%{text}<extra></extra>",
         "legendgroup": "",
         "marker": {
          "color": [
           2012,
           2013,
           2014,
           2015,
           2016,
           2017,
           2018,
           2019
          ],
          "coloraxis": "coloraxis",
          "pattern": {
           "shape": ""
          }
         },
         "name": "",
         "offsetgroup": "",
         "orientation": "v",
         "showlegend": false,
         "text": [
          14453963,
          14534450,
          14615104,
          14710310,
          14812838,
          14927830,
          15036742,
          15149650
         ],
         "textposition": "auto",
         "type": "bar",
         "x": [
          2012,
          2013,
          2014,
          2015,
          2016,
          2017,
          2018,
          2019
         ],
         "xaxis": "x",
         "y": [
          14453963,
          14534450,
          14615104,
          14710310,
          14812838,
          14927830,
          15036742,
          15149650
         ],
         "yaxis": "y"
        }
       ],
       "layout": {
        "barmode": "relative",
        "coloraxis": {
         "colorbar": {
          "title": {
           "text": "year"
          }
         },
         "colorscale": [
          [
           0,
           "#0d0887"
          ],
          [
           0.1111111111111111,
           "#46039f"
          ],
          [
           0.2222222222222222,
           "#7201a8"
          ],
          [
           0.3333333333333333,
           "#9c179e"
          ],
          [
           0.4444444444444444,
           "#bd3786"
          ],
          [
           0.5555555555555556,
           "#d8576b"
          ],
          [
           0.6666666666666666,
           "#ed7953"
          ],
          [
           0.7777777777777778,
           "#fb9f3a"
          ],
          [
           0.8888888888888888,
           "#fdca26"
          ],
          [
           1,
           "#f0f921"
          ]
         ]
        },
        "legend": {
         "tracegroupgap": 0
        },
        "template": {
         "data": {
          "bar": [
           {
            "error_x": {
             "color": "#2a3f5f"
            },
            "error_y": {
             "color": "#2a3f5f"
            },
            "marker": {
             "line": {
              "color": "#E5ECF6",
              "width": 0.5
             },
             "pattern": {
              "fillmode": "overlay",
              "size": 10,
              "solidity": 0.2
             }
            },
            "type": "bar"
           }
          ],
          "barpolar": [
           {
            "marker": {
             "line": {
              "color": "#E5ECF6",
              "width": 0.5
             },
             "pattern": {
              "fillmode": "overlay",
              "size": 10,
              "solidity": 0.2
             }
            },
            "type": "barpolar"
           }
          ],
          "carpet": [
           {
            "aaxis": {
             "endlinecolor": "#2a3f5f",
             "gridcolor": "white",
             "linecolor": "white",
             "minorgridcolor": "white",
             "startlinecolor": "#2a3f5f"
            },
            "baxis": {
             "endlinecolor": "#2a3f5f",
             "gridcolor": "white",
             "linecolor": "white",
             "minorgridcolor": "white",
             "startlinecolor": "#2a3f5f"
            },
            "type": "carpet"
           }
          ],
          "choropleth": [
           {
            "colorbar": {
             "outlinewidth": 0,
             "ticks": ""
            },
            "type": "choropleth"
           }
          ],
          "contour": [
           {
            "colorbar": {
             "outlinewidth": 0,
             "ticks": ""
            },
            "colorscale": [
             [
              0,
              "#0d0887"
             ],
             [
              0.1111111111111111,
              "#46039f"
             ],
             [
              0.2222222222222222,
              "#7201a8"
             ],
             [
              0.3333333333333333,
              "#9c179e"
             ],
             [
              0.4444444444444444,
              "#bd3786"
             ],
             [
              0.5555555555555556,
              "#d8576b"
             ],
             [
              0.6666666666666666,
              "#ed7953"
             ],
             [
              0.7777777777777778,
              "#fb9f3a"
             ],
             [
              0.8888888888888888,
              "#fdca26"
             ],
             [
              1,
              "#f0f921"
             ]
            ],
            "type": "contour"
           }
          ],
          "contourcarpet": [
           {
            "colorbar": {
             "outlinewidth": 0,
             "ticks": ""
            },
            "type": "contourcarpet"
           }
          ],
          "heatmap": [
           {
            "colorbar": {
             "outlinewidth": 0,
             "ticks": ""
            },
            "colorscale": [
             [
              0,
              "#0d0887"
             ],
             [
              0.1111111111111111,
              "#46039f"
             ],
             [
              0.2222222222222222,
              "#7201a8"
             ],
             [
              0.3333333333333333,
              "#9c179e"
             ],
             [
              0.4444444444444444,
              "#bd3786"
             ],
             [
              0.5555555555555556,
              "#d8576b"
             ],
             [
              0.6666666666666666,
              "#ed7953"
             ],
             [
              0.7777777777777778,
              "#fb9f3a"
             ],
             [
              0.8888888888888888,
              "#fdca26"
             ],
             [
              1,
              "#f0f921"
             ]
            ],
            "type": "heatmap"
           }
          ],
          "heatmapgl": [
           {
            "colorbar": {
             "outlinewidth": 0,
             "ticks": ""
            },
            "colorscale": [
             [
              0,
              "#0d0887"
             ],
             [
              0.1111111111111111,
              "#46039f"
             ],
             [
              0.2222222222222222,
              "#7201a8"
             ],
             [
              0.3333333333333333,
              "#9c179e"
             ],
             [
              0.4444444444444444,
              "#bd3786"
             ],
             [
              0.5555555555555556,
              "#d8576b"
             ],
             [
              0.6666666666666666,
              "#ed7953"
             ],
             [
              0.7777777777777778,
              "#fb9f3a"
             ],
             [
              0.8888888888888888,
              "#fdca26"
             ],
             [
              1,
              "#f0f921"
             ]
            ],
            "type": "heatmapgl"
           }
          ],
          "histogram": [
           {
            "marker": {
             "pattern": {
              "fillmode": "overlay",
              "size": 10,
              "solidity": 0.2
             }
            },
            "type": "histogram"
           }
          ],
          "histogram2d": [
           {
            "colorbar": {
             "outlinewidth": 0,
             "ticks": ""
            },
            "colorscale": [
             [
              0,
              "#0d0887"
             ],
             [
              0.1111111111111111,
              "#46039f"
             ],
             [
              0.2222222222222222,
              "#7201a8"
             ],
             [
              0.3333333333333333,
              "#9c179e"
             ],
             [
              0.4444444444444444,
              "#bd3786"
             ],
             [
              0.5555555555555556,
              "#d8576b"
             ],
             [
              0.6666666666666666,
              "#ed7953"
             ],
             [
              0.7777777777777778,
              "#fb9f3a"
             ],
             [
              0.8888888888888888,
              "#fdca26"
             ],
             [
              1,
              "#f0f921"
             ]
            ],
            "type": "histogram2d"
           }
          ],
          "histogram2dcontour": [
           {
            "colorbar": {
             "outlinewidth": 0,
             "ticks": ""
            },
            "colorscale": [
             [
              0,
              "#0d0887"
             ],
             [
              0.1111111111111111,
              "#46039f"
             ],
             [
              0.2222222222222222,
              "#7201a8"
             ],
             [
              0.3333333333333333,
              "#9c179e"
             ],
             [
              0.4444444444444444,
              "#bd3786"
             ],
             [
              0.5555555555555556,
              "#d8576b"
             ],
             [
              0.6666666666666666,
              "#ed7953"
             ],
             [
              0.7777777777777778,
              "#fb9f3a"
             ],
             [
              0.8888888888888888,
              "#fdca26"
             ],
             [
              1,
              "#f0f921"
             ]
            ],
            "type": "histogram2dcontour"
           }
          ],
          "mesh3d": [
           {
            "colorbar": {
             "outlinewidth": 0,
             "ticks": ""
            },
            "type": "mesh3d"
           }
          ],
          "parcoords": [
           {
            "line": {
             "colorbar": {
              "outlinewidth": 0,
              "ticks": ""
             }
            },
            "type": "parcoords"
           }
          ],
          "pie": [
           {
            "automargin": true,
            "type": "pie"
           }
          ],
          "scatter": [
           {
            "fillpattern": {
             "fillmode": "overlay",
             "size": 10,
             "solidity": 0.2
            },
            "type": "scatter"
           }
          ],
          "scatter3d": [
           {
            "line": {
             "colorbar": {
              "outlinewidth": 0,
              "ticks": ""
             }
            },
            "marker": {
             "colorbar": {
              "outlinewidth": 0,
              "ticks": ""
             }
            },
            "type": "scatter3d"
           }
          ],
          "scattercarpet": [
           {
            "marker": {
             "colorbar": {
              "outlinewidth": 0,
              "ticks": ""
             }
            },
            "type": "scattercarpet"
           }
          ],
          "scattergeo": [
           {
            "marker": {
             "colorbar": {
              "outlinewidth": 0,
              "ticks": ""
             }
            },
            "type": "scattergeo"
           }
          ],
          "scattergl": [
           {
            "marker": {
             "colorbar": {
              "outlinewidth": 0,
              "ticks": ""
             }
            },
            "type": "scattergl"
           }
          ],
          "scattermapbox": [
           {
            "marker": {
             "colorbar": {
              "outlinewidth": 0,
              "ticks": ""
             }
            },
            "type": "scattermapbox"
           }
          ],
          "scatterpolar": [
           {
            "marker": {
             "colorbar": {
              "outlinewidth": 0,
              "ticks": ""
             }
            },
            "type": "scatterpolar"
           }
          ],
          "scatterpolargl": [
           {
            "marker": {
             "colorbar": {
              "outlinewidth": 0,
              "ticks": ""
             }
            },
            "type": "scatterpolargl"
           }
          ],
          "scatterternary": [
           {
            "marker": {
             "colorbar": {
              "outlinewidth": 0,
              "ticks": ""
             }
            },
            "type": "scatterternary"
           }
          ],
          "surface": [
           {
            "colorbar": {
             "outlinewidth": 0,
             "ticks": ""
            },
            "colorscale": [
             [
              0,
              "#0d0887"
             ],
             [
              0.1111111111111111,
              "#46039f"
             ],
             [
              0.2222222222222222,
              "#7201a8"
             ],
             [
              0.3333333333333333,
              "#9c179e"
             ],
             [
              0.4444444444444444,
              "#bd3786"
             ],
             [
              0.5555555555555556,
              "#d8576b"
             ],
             [
              0.6666666666666666,
              "#ed7953"
             ],
             [
              0.7777777777777778,
              "#fb9f3a"
             ],
             [
              0.8888888888888888,
              "#fdca26"
             ],
             [
              1,
              "#f0f921"
             ]
            ],
            "type": "surface"
           }
          ],
          "table": [
           {
            "cells": {
             "fill": {
              "color": "#EBF0F8"
             },
             "line": {
              "color": "white"
             }
            },
            "header": {
             "fill": {
              "color": "#C8D4E3"
             },
             "line": {
              "color": "white"
             }
            },
            "type": "table"
           }
          ]
         },
         "layout": {
          "annotationdefaults": {
           "arrowcolor": "#2a3f5f",
           "arrowhead": 0,
           "arrowwidth": 1
          },
          "autotypenumbers": "strict",
          "coloraxis": {
           "colorbar": {
            "outlinewidth": 0,
            "ticks": ""
           }
          },
          "colorscale": {
           "diverging": [
            [
             0,
             "#8e0152"
            ],
            [
             0.1,
             "#c51b7d"
            ],
            [
             0.2,
             "#de77ae"
            ],
            [
             0.3,
             "#f1b6da"
            ],
            [
             0.4,
             "#fde0ef"
            ],
            [
             0.5,
             "#f7f7f7"
            ],
            [
             0.6,
             "#e6f5d0"
            ],
            [
             0.7,
             "#b8e186"
            ],
            [
             0.8,
             "#7fbc41"
            ],
            [
             0.9,
             "#4d9221"
            ],
            [
             1,
             "#276419"
            ]
           ],
           "sequential": [
            [
             0,
             "#0d0887"
            ],
            [
             0.1111111111111111,
             "#46039f"
            ],
            [
             0.2222222222222222,
             "#7201a8"
            ],
            [
             0.3333333333333333,
             "#9c179e"
            ],
            [
             0.4444444444444444,
             "#bd3786"
            ],
            [
             0.5555555555555556,
             "#d8576b"
            ],
            [
             0.6666666666666666,
             "#ed7953"
            ],
            [
             0.7777777777777778,
             "#fb9f3a"
            ],
            [
             0.8888888888888888,
             "#fdca26"
            ],
            [
             1,
             "#f0f921"
            ]
           ],
           "sequentialminus": [
            [
             0,
             "#0d0887"
            ],
            [
             0.1111111111111111,
             "#46039f"
            ],
            [
             0.2222222222222222,
             "#7201a8"
            ],
            [
             0.3333333333333333,
             "#9c179e"
            ],
            [
             0.4444444444444444,
             "#bd3786"
            ],
            [
             0.5555555555555556,
             "#d8576b"
            ],
            [
             0.6666666666666666,
             "#ed7953"
            ],
            [
             0.7777777777777778,
             "#fb9f3a"
            ],
            [
             0.8888888888888888,
             "#fdca26"
            ],
            [
             1,
             "#f0f921"
            ]
           ]
          },
          "colorway": [
           "#636efa",
           "#EF553B",
           "#00cc96",
           "#ab63fa",
           "#FFA15A",
           "#19d3f3",
           "#FF6692",
           "#B6E880",
           "#FF97FF",
           "#FECB52"
          ],
          "font": {
           "color": "#2a3f5f"
          },
          "geo": {
           "bgcolor": "white",
           "lakecolor": "white",
           "landcolor": "#E5ECF6",
           "showlakes": true,
           "showland": true,
           "subunitcolor": "white"
          },
          "hoverlabel": {
           "align": "left"
          },
          "hovermode": "closest",
          "mapbox": {
           "style": "light"
          },
          "paper_bgcolor": "white",
          "plot_bgcolor": "#E5ECF6",
          "polar": {
           "angularaxis": {
            "gridcolor": "white",
            "linecolor": "white",
            "ticks": ""
           },
           "bgcolor": "#E5ECF6",
           "radialaxis": {
            "gridcolor": "white",
            "linecolor": "white",
            "ticks": ""
           }
          },
          "scene": {
           "xaxis": {
            "backgroundcolor": "#E5ECF6",
            "gridcolor": "white",
            "gridwidth": 2,
            "linecolor": "white",
            "showbackground": true,
            "ticks": "",
            "zerolinecolor": "white"
           },
           "yaxis": {
            "backgroundcolor": "#E5ECF6",
            "gridcolor": "white",
            "gridwidth": 2,
            "linecolor": "white",
            "showbackground": true,
            "ticks": "",
            "zerolinecolor": "white"
           },
           "zaxis": {
            "backgroundcolor": "#E5ECF6",
            "gridcolor": "white",
            "gridwidth": 2,
            "linecolor": "white",
            "showbackground": true,
            "ticks": "",
            "zerolinecolor": "white"
           }
          },
          "shapedefaults": {
           "line": {
            "color": "#2a3f5f"
           }
          },
          "ternary": {
           "aaxis": {
            "gridcolor": "white",
            "linecolor": "white",
            "ticks": ""
           },
           "baxis": {
            "gridcolor": "white",
            "linecolor": "white",
            "ticks": ""
           },
           "bgcolor": "#E5ECF6",
           "caxis": {
            "gridcolor": "white",
            "linecolor": "white",
            "ticks": ""
           }
          },
          "title": {
           "x": 0.05
          },
          "xaxis": {
           "automargin": true,
           "gridcolor": "white",
           "linecolor": "white",
           "ticks": "",
           "title": {
            "standoff": 15
           },
           "zerolinecolor": "white",
           "zerolinewidth": 2
          },
          "yaxis": {
           "automargin": true,
           "gridcolor": "white",
           "linecolor": "white",
           "ticks": "",
           "title": {
            "standoff": 15
           },
           "zerolinecolor": "white",
           "zerolinewidth": 2
          }
         }
        },
        "title": {
         "text": "Population growth"
        },
        "xaxis": {
         "anchor": "y",
         "domain": [
          0,
          1
         ],
         "title": {
          "text": "year"
         }
        },
        "yaxis": {
         "anchor": "x",
         "domain": [
          0,
          1
         ],
         "title": {
          "text": "population 12+"
         }
        }
       }
      }
     },
     "metadata": {},
     "output_type": "display_data"
    }
   ],
   "source": [
    "fig = px.bar(df,\n",
    "             x = 'year',\n",
    "             y = 'population 12+',\n",
    "             title = 'Population growth',\n",
    "             color = 'year',\n",
    "             text = 'population 12+',\n",
    ")\n",
    "fig.show()"
   ]
  },
  {
   "cell_type": "code",
   "execution_count": 5,
   "metadata": {},
   "outputs": [
    {
     "data": {
      "text/plain": [
       "<matplotlib.legend.Legend at 0x212199f9ed0>"
      ]
     },
     "execution_count": 5,
     "metadata": {},
     "output_type": "execute_result"
    },
    {
     "data": {
      "image/png": "[encoded data removed]",
      "text/plain": [
       "<Figure size 640x480 with 1 Axes>"
      ]
     },
     "metadata": {},
     "output_type": "display_data"
    }
   ],
   "source": [
    "t = pd.read_csv('Data_online_shopping_total.csv', delimiter = ';', index_col = 0)\n",
    "m = pd.read_csv('Data_online_shopping_men.csv', delimiter = ';', index_col = 0)\n",
    "w = pd.read_csv('Data_online_shopping_women.csv', delimiter = ';', index_col = 0)\n",
    "\n",
    "t['Totaal online aankopen'].plot(color = 'g', label = 'On average')\n",
    "m['Totaal online aankopen'].plot(color = 'b', label = 'Men')\n",
    "w['Totaal online aankopen'].plot(color = 'r', label = 'Women')\n",
    "\n",
    "plt.xlabel('Years')\n",
    "plt.ylabel('% of people (above 12 y.o.) old buying online')\n",
    "plt.legend()"
   ]
  },
  {
   "cell_type": "code",
   "execution_count": 9,
   "metadata": {},
   "outputs": [
    {
     "data": {
      "image/png": "[encoded data removed]",
      "text/plain": [
       "<Figure size 640x480 with 2 Axes>"
      ]
     },
     "metadata": {},
     "output_type": "display_data"
    }
   ],
   "source": [
    "file_path = (r\"Stores_country_data.csv\")\n",
    "df = pd.read_csv(file_path, delimiter=';')\n",
    "x = df['Perioden']\n",
    "y1 = df['1. Kleding of sportartikelen'] + df['2. Boeken, tijdschriften en kranten'] + df['3. Soft-/ hardware en elektronische benodig'] + df['4. Huishoudelijke goederen en apparaten']\n",
    "\n",
    "# create figure and axis objects with subplots()\n",
    "fig,ax = plt.subplots()\n",
    "# make a plot\n",
    "line1 = ax.plot(t['Totaal online aankopen'], marker=\"o\", label = 'Online sales', color = 'g')\n",
    "ax.set_xlabel('Years',fontsize=14)\n",
    "ax.set_ylabel('% of people (above 12 y.o.) old buying online',fontsize=10)\n",
    "ax.legend(loc = 'lower left')\n",
    "\n",
    "ax2=ax.twinx()\n",
    "# make a plot with different y-axis using second axis object\n",
    "line2 = ax2.plot(x,y1,marker=\"o\", label = 'Physical stores', color = 'b')\n",
    "ax2.set_ylabel(\"Physical stores in the 4 categories\",fontsize=10)\n",
    "#plt.legend([ax,ax2],['label1','label2'])\n",
    "ax2.legend()\n",
    "plt.show()"
   ]
  },
  {
   "cell_type": "code",
   "execution_count": 4,
   "metadata": {},
   "outputs": [
    {
     "data": {
      "image/png": "[encoded data removed]",
      "text/plain": [
       "<Figure size 864x648 with 8 Axes>"
      ]
     },
     "metadata": {
      "needs_background": "light"
     },
     "output_type": "display_data"
    }
   ],
   "source": [
    "file_path2 = (r\"Data_online_shopping_population.csv\")\n",
    "df2 = pd.read_csv(file_path2, delimiter=';')\n",
    "\n",
    "###################################################################################\n",
    "\n",
    "fig = plt.figure(figsize=(12, 9))\n",
    "gs = fig.add_gridspec(nrows=2, ncols=2)\n",
    "\n",
    "######################Clothes graph#########################\n",
    "\n",
    "ax = fig.add_subplot(gs[0,0])\n",
    "x = df['Perioden']\n",
    "y00 = df['1. Kleding of sportartikelen']\n",
    "y01 = df2['Kleding of sportartikelen']\n",
    "\n",
    "line1 = ax.plot(x, y01, marker=\"o\", label = 'Online sales of clothes', color = 'g')\n",
    "ax.set_xlabel('Years',fontsize=14)\n",
    "ax.set_ylabel('Number of online purchases',fontsize=10)\n",
    "ax.set_title('Clothes and sportinggoods')\n",
    "ax.legend(loc = 'lower left')\n",
    "\n",
    "ax2=ax.twinx()\n",
    "# make a plot with different y-axis using second axis object\n",
    "line2 = ax2.plot(x,y00,marker=\"o\", label = 'Physical stores', color = 'b')\n",
    "ax2.set_ylabel(\"Number of stores\",fontsize=10)\n",
    "\n",
    "ax2.legend()\n",
    "\n",
    "#####################Books graph######################################\n",
    "\n",
    "ax = fig.add_subplot(gs[0,1])\n",
    "y10 = df['2. Boeken, tijdschriften en kranten']\n",
    "y11 = df2['Boeken, tijdschriften en kranten']\n",
    "\n",
    "line1 = ax.plot(x, y11, marker=\"o\", label = 'Online sales of books/magazine/newspapers', color = 'g')\n",
    "ax.set_xlabel('Years',fontsize=14)\n",
    "ax.set_ylabel('Number of online purchases',fontsize=10)\n",
    "ax.set_title('Books/magazine/newspapers')\n",
    "ax.legend(loc = 'lower left')\n",
    "\n",
    "ax2=ax.twinx()\n",
    "# make a plot with different y-axis using second axis object\n",
    "line2 = ax2.plot(x,y10,marker=\"o\", label = 'Physical stores', color = 'b')\n",
    "ax2.set_ylabel(\"Number of stores\",fontsize=10)\n",
    "\n",
    "ax2.legend()\n",
    "#####################################Electronics graph##################################################################\n",
    "\n",
    "ax = fig.add_subplot(gs[1,1])\n",
    "y20 = df['3. Soft-/ hardware en elektronische benodig']\n",
    "y21 = df2['Soft-/ hardware en elektronische benodig']\n",
    "\n",
    "line1 = ax.plot(x, y21, marker=\"o\", label = 'Online sales of electronics', color = 'g')\n",
    "ax.set_xlabel('Years',fontsize=14)\n",
    "ax.set_ylabel('Number of online purchases',fontsize=10)\n",
    "ax.set_title('Electronics')\n",
    "ax.legend(loc = 'lower left')\n",
    "\n",
    "ax2=ax.twinx()\n",
    "# make a plot with different y-axis using second axis object\n",
    "line2 = ax2.plot(x,y20,marker=\"o\", label = 'Physical stores', color = 'b')\n",
    "ax2.set_ylabel(\"Number of stores\",fontsize=10)\n",
    "\n",
    "ax2.legend()\n",
    "\n",
    "####################################Household goods graph###################################################\n",
    "\n",
    "ax = fig.add_subplot(gs[1,0])\n",
    "y30 = df['4. Huishoudelijke goederen en apparaten']\n",
    "y31 = df2['Huishoudelijke goederen en apparaten']\n",
    "\n",
    "line1 = ax.plot(x, y31, marker=\"o\", label = 'Online sales of household items', color = 'g')\n",
    "ax.set_xlabel('Years',fontsize=14)\n",
    "ax.set_ylabel('Number of online purchases',fontsize=10)\n",
    "ax.set_title('Household items')\n",
    "ax.legend(loc = 'lower left')\n",
    "\n",
    "ax2=ax.twinx()\n",
    "# make a plot with different y-axis using second axis object\n",
    "line2 = ax2.plot(x,y30,marker=\"o\", label = 'Physical stores', color = 'b')\n",
    "ax2.set_ylabel(\"Number of stores\",fontsize=10)\n",
    "\n",
    "ax2.legend()\n",
    "\n",
    "##########################################################################\n",
    "plt.tight_layout()\n",
    "plt.show()"
   ]
  },
  {
   "cell_type": "markdown",
   "metadata": {},
   "source": [
    "# Bibliography"
   ]
  },
  {
   "cell_type": "markdown",
   "metadata": {},
   "source": [
    "Weltevreden, J. W. J. (2012). De evolutie van online winkelen in Nederland. Hogeschool van\n",
    "Amsterdam."
   ]
  }
 ],
 "metadata": {
  "kernelspec": {
   "display_name": "Python 3.7.1 ('base')",
   "language": "python",
   "name": "python3"
  },
  "language_info": {
   "codemirror_mode": {
    "name": "ipython",
    "version": 3
   },
   "file_extension": ".py",
   "mimetype": "text/x-python",
   "name": "python",
   "nbconvert_exporter": "python",
   "pygments_lexer": "ipython3",
   "version": "3.7.1"
  },
  "orig_nbformat": 4,
  "vscode": {
   "interpreter": {
    "hash": "0e34ec9cc0edf39469f52a3f3ecbd79248976fac4b2cd99c3b35d1c6dd579e9e"
   }
  }
 },
 "nbformat": 4,
 "nbformat_minor": 2
}
